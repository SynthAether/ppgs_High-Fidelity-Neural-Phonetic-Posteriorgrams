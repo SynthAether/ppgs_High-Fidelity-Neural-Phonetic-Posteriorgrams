{
 "cells": [
  {
   "cell_type": "code",
   "execution_count": null,
   "id": "5833dbe6-bc61-4193-a5fa-87c6b1915952",
   "metadata": {},
   "outputs": [],
   "source": [
    "import torch, ppgs\n",
    "\n",
    "phonemes_set = ppgs.data.Dataset('charsiu', features=['phonemes'])\n",
    "count = len(phonemes_set)\n",
    "\n",
    "device = 'cuda:3'\n",
    "\n",
    "totals = torch.zeros(40, dtype=torch.long).to(device)\n",
    "\n",
    "for i, (phone_tensor,) in enumerate(phonemes_set):\n",
    "    if i % 10000 == 0:\n",
    "        print(i, flush=True)\n",
    "    totals.scatter_add_(dim=0, index=phone_tensor.to(device), src=torch.ones(phone_tensor.shape, dtype=torch.long).to(device))"
   ]
  },
  {
   "cell_type": "code",
   "execution_count": null,
   "id": "aa9a3fd9-54f7-4ade-a5e7-646640ff32f7",
   "metadata": {},
   "outputs": [],
   "source": [
    "ratios = totals / totals.sum()\n",
    "print(ratios)\n",
    "weights = 1/ratios\n",
    "print(weights)\n",
    "weights /= weights.max()\n",
    "print(weights)"
   ]
  },
  {
   "cell_type": "code",
   "execution_count": null,
   "id": "e1c4f2d7-ccc9-44c4-9076-5c5eea3a5449",
   "metadata": {},
   "outputs": [],
   "source": [
    "totals.min()/totals"
   ]
  },
  {
   "cell_type": "code",
   "execution_count": null,
   "id": "add4b7b6-367e-42ed-bcff-f527be129ac1",
   "metadata": {},
   "outputs": [],
   "source": [
    "torch.save(weights.cpu(), '/home/cameron/ppgs/ppgs/assets/class_weights_complement.pt')"
   ]
  },
  {
   "cell_type": "code",
   "execution_count": null,
   "id": "67f2f513-ec6b-41d8-8d33-72d0e0c5b118",
   "metadata": {},
   "outputs": [],
   "source": [
    "totals"
   ]
  },
  {
   "cell_type": "code",
   "execution_count": null,
   "id": "41ba0dd8-e883-4032-8e07-703bafefe8bd",
   "metadata": {},
   "outputs": [],
   "source": []
  }
 ],
 "metadata": {
  "kernelspec": {
   "display_name": "Python 3 (ipykernel)",
   "language": "python",
   "name": "python3"
  },
  "language_info": {
   "codemirror_mode": {
    "name": "ipython",
    "version": 3
   },
   "file_extension": ".py",
   "mimetype": "text/x-python",
   "name": "python",
   "nbconvert_exporter": "python",
   "pygments_lexer": "ipython3",
   "version": "3.10.12"
  }
 },
 "nbformat": 4,
 "nbformat_minor": 5
}
