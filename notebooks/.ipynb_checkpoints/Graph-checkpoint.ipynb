{
 "cells": [
  {
   "cell_type": "code",
   "execution_count": null,
   "id": "429973b7-56eb-4b3a-b689-3dac30e368d5",
   "metadata": {},
   "outputs": [],
   "source": [
    "print(\"test\")"
   ]
  },
  {
   "cell_type": "code",
   "execution_count": null,
   "id": "aeb1f63e-c7ac-4ed8-92e7-8ebeff05b559",
   "metadata": {},
   "outputs": [],
   "source": [
    "from pathlib import Path\n",
    "import ppgs\n",
    "from json import load\n",
    "import numpy as np\n",
    "from matplotlib import pyplot as plt"
   ]
  },
  {
   "cell_type": "code",
   "execution_count": null,
   "id": "4fa09234-4aa0-4e21-a30a-e598c63aadfc",
   "metadata": {},
   "outputs": [],
   "source": [
    "eval_dir = Path(ppgs.EVAL_DIR)\n",
    "models = [\n",
    "    'bottleneck',\n",
    "    'encodec',\n",
    "    'mel',\n",
    "    'w2v2fb',\n",
    "    'w2v2fc',\n",
    "    'w2v2fc-pretrained',\n",
    "    'w2v2ft',\n",
    "    # 'w2v2fb-ctc'\n",
    "]\n",
    "eval_files = {model: eval_dir / model / 'overall-test.json' for model in models}"
   ]
  },
  {
   "cell_type": "code",
   "execution_count": null,
   "id": "0cde9094-1046-48c3-ac7e-568ba2a3d608",
   "metadata": {},
   "outputs": [],
   "source": [
    "evals = {}\n",
    "for model, eval_file in eval_files.items():\n",
    "    with open(eval_file, 'r') as f:\n",
    "        evals[model] = load(f)"
   ]
  },
  {
   "cell_type": "code",
   "execution_count": 4,
   "id": "bc0c2099-df07-4b88-972d-b41fd49441ff",
   "metadata": {},
   "outputs": [],
   "source": [
    "timit_accuracies = {\n",
    "    model: evals[model]['timit']['Accuracy/per-dataset'] for model in models\n",
    "}\n",
    "arctic_accuracies = {\n",
    "    model: evals[model]['arctic']['Accuracy/per-dataset'] for model in models\n",
    "}\n",
    "common_voice_accuracies = {\n",
    "    model: evals[model]['charsiu']['Accuracy/per-dataset'] for model in models\n",
    "}"
   ]
  },
  {
   "cell_type": "code",
   "execution_count": 5,
   "id": "10bc6ca7-aa2d-4882-9c77-cd9a694ff058",
   "metadata": {},
   "outputs": [
    {
     "data": {
      "text/plain": [
       "{'bottleneck': 0.5916703343391418,\n",
       " 'encodec': 0.6410413384437561,\n",
       " 'mel': 0.5334274172782898,\n",
       " 'w2v2fb': 0.7118264436721802,\n",
       " 'w2v2fc': 0.5575138330459595,\n",
       " 'w2v2fc-pretrained': 0.7380235195159912,\n",
       " 'w2v2ft': 0.3890034854412079}"
      ]
     },
     "execution_count": 5,
     "metadata": {},
     "output_type": "execute_result"
    }
   ],
   "source": [
    "timit_accuracies"
   ]
  },
  {
   "cell_type": "code",
   "execution_count": 6,
   "id": "d3c7af21-ccba-41ad-a419-e60fd985d510",
   "metadata": {},
   "outputs": [
    {
     "data": {
      "text/plain": [
       "{'bottleneck': 0.6496594548225403,\n",
       " 'encodec': 0.7502590417861938,\n",
       " 'mel': 0.7033655047416687,\n",
       " 'w2v2fb': 0.767558753490448,\n",
       " 'w2v2fc': 0.6226139664649963,\n",
       " 'w2v2fc-pretrained': 0.7758631706237793,\n",
       " 'w2v2ft': 0.44117701053619385}"
      ]
     },
     "execution_count": 6,
     "metadata": {},
     "output_type": "execute_result"
    }
   ],
   "source": [
    "arctic_accuracies"
   ]
  },
  {
   "cell_type": "code",
   "execution_count": 7,
   "id": "aa69595a-4752-4c61-b69d-ac190309cc6b",
   "metadata": {},
   "outputs": [
    {
     "data": {
      "text/plain": [
       "{'bottleneck': 0.7861724495887756,\n",
       " 'encodec': 0.8202138543128967,\n",
       " 'mel': 0.8554689884185791,\n",
       " 'w2v2fb': 0.8309870362281799,\n",
       " 'w2v2fc': 0.8784779906272888,\n",
       " 'w2v2fc-pretrained': 0.6586368680000305,\n",
       " 'w2v2ft': 0.5305561423301697}"
      ]
     },
     "execution_count": 7,
     "metadata": {},
     "output_type": "execute_result"
    }
   ],
   "source": [
    "common_voice_accuracies"
   ]
  },
  {
   "cell_type": "code",
   "execution_count": 8,
   "id": "78321495-a4b5-49ef-b94e-76ee9cc6ab72",
   "metadata": {},
   "outputs": [],
   "source": [
    "average_accuracies = {}\n",
    "for model in models:\n",
    "    average_accuracies[model] = 0\n",
    "    average_accuracies[model] += timit_accuracies[model]\n",
    "    average_accuracies[model] += arctic_accuracies[model]\n",
    "    average_accuracies[model] += common_voice_accuracies[model]\n",
    "    average_accuracies[model] /= 3"
   ]
  },
  {
   "cell_type": "code",
   "execution_count": 9,
   "id": "999f3103-3f6b-4acd-b78f-0a1e1a734385",
   "metadata": {},
   "outputs": [
    {
     "data": {
      "text/plain": [
       "[3, 1, 5, 2, 4, 0, 6]"
      ]
     },
     "execution_count": 9,
     "metadata": {},
     "output_type": "execute_result"
    }
   ],
   "source": [
    "average_accuracy_items = list(average_accuracies.items())\n",
    "indices = list(reversed(np.argsort([item[1] for item in average_accuracy_items])))\n",
    "indices"
   ]
  },
  {
   "cell_type": "code",
   "execution_count": null,
   "id": "69c06794-029f-4024-a49f-8a31b2c7a1b1",
   "metadata": {},
   "outputs": [],
   "source": [
    "model_colors = ['red', 'green', 'blue', 'orange', 'purple', 'cyan', 'lime', 'magenta']\n",
    "label_map = {\n",
    "    'bottleneck': 'ASR bottleneck',\n",
    "    'encodec': 'EnCodec',\n",
    "    'mel': 'Mel spectrogram',\n",
    "    'w2v2fb': 'Wav2vec 2.0',\n",
    "    'w2v2fc': 'Charsiu',\n",
    "    'w2v2fc-pretrained': 'Charsiu (Pretrained)',\n",
    "    # 'w2v2fb-ctc': 'CTC loss',\n",
    "    'w2v2ft': 'Fine-tuning'\n",
    "}\n",
    "asterisked = [\n",
    "    ('Common Voice', 'w2v2fc'),\n",
    "    ('Common Voice', 'w2v2fc-pretrained'),\n",
    "    ('TIMIT', 'w2v2fc'),\n",
    "    ('TIMIT', 'w2v2fc-pretrained')\n",
    "]\n",
    "top_legend_models = ['bottleneck', 'encodec', 'mel', 'w2v2fb', 'w2v2fc']\n",
    "bottom_legend_models = [m for m in models if m not in top_legend_models]\n",
    "figure, axes = plt.subplots(1, 4, sharey=True, figsize=(16, 4), width_ratios=[1, 1, 1, 1.8])\n",
    "datasets = ['Common Voice', 'TIMIT', 'Arctic']\n",
    "inter_figure_distance = 0.115\n",
    "for i, accuracies in enumerate([common_voice_accuracies, timit_accuracies, arctic_accuracies]):\n",
    "    ax = axes[i]\n",
    "    ax.set_ylim(0.3, 0.9)\n",
    "    for pos in ['top', 'bottom', 'left', 'right']:\n",
    "        ax.spines[pos].set_visible(False)\n",
    "    ax.tick_params(left=False, bottom=False)\n",
    "    bar = ax.bar(range(len(accuracies)), [list(accuracies.values())[idx] for idx in indices], align='center', color=model_colors)\n",
    "    # ax.set_xticks(range(len(accuracies)), list(accuracies.keys()), rotation=45, rotation_mode='anchor', ha='right')\n",
    "    ax.set_xticks(range(len(accuracies)), [label_map[k] for k in accuracies.keys()], rotation=45, rotation_mode='anchor', ha='right', visible=False)\n",
    "    ax.set_title(f'{datasets[i]}')\n",
    "    if i == 0:\n",
    "        xmin = 0\n",
    "        xmax = 1 + inter_figure_distance\n",
    "    elif i == len(datasets) - 1:\n",
    "        xmin = 0 - inter_figure_distance\n",
    "        xmax = 1\n",
    "    else:\n",
    "        xmin = 0 - inter_figure_distance\n",
    "        xmax = 1 + inter_figure_distance\n",
    "    for y in [0.4, 0.5, 0.6, 0.7, 0.8, 0.9]:\n",
    "        ax.axhline(y, linestyle='dashed', clip_on=False, xmin=xmin, xmax=xmax)\n",
    "\n",
    "    for dataset, model in asterisked:\n",
    "        if dataset == datasets[i]:\n",
    "            idx = indices.index(models.index(model))\n",
    "            current_bar = list(bar)[idx]\n",
    "            ax.text(\n",
    "                current_bar.get_x() + current_bar.get_width()/2.0,\n",
    "                current_bar.get_height(),\n",
    "                r'$\\bf{*}$',\n",
    "                ha='center',\n",
    "                va='baseline',\n",
    "                fontsize=20\n",
    "            )\n",
    "\n",
    "lax = axes[-1]\n",
    "lax.axis('off')\n",
    "legend_labels = [label_map[models[idx]] + f'\\n(avg={average_accuracy_items[idx][1]:.3f})' for idx in indices]\n",
    "top_legend = lax.legend(\n",
    "    [b for i, b in enumerate(bar) if models[indices[i]] in top_legend_models],\n",
    "    [l for i, l in enumerate(legend_labels) if models[indices[i]] in top_legend_models],\n",
    "    loc='center left',\n",
    "    title=r'$\\bf{Input\\ representation:}$',\n",
    "    frameon=False\n",
    ")\n",
    "lax.add_artist(top_legend)\n",
    "lax.legend(\n",
    "    [b for i, b in enumerate(bar) if models[indices[i]] in bottom_legend_models],\n",
    "    [l for i, l in enumerate(legend_labels) if models[indices[i]] in bottom_legend_models],\n",
    "    loc='center right',\n",
    "    title=r'$\\bf{Ablations:}$',\n",
    "    frameon=False\n",
    ")\n",
    "# lax.legend([b for i, b in enumerate(bar) if models[i] in bottom_legend_models], [l for i, l in enumerate(legend_labels) if models[i] in bottom_legend_models], loc='upper left', title='trained on:')\n",
    "\n",
    "# figure.suptitle('Average frame-wise accuracy', y=1.05)\n",
    "# figure.legend(bar, [label_map[models[idx]] + f' (avg={average_accuracy_items[idx][1]:.3f})' for idx in indices], mode='expand', title='trained on:')\n",
    "figure.savefig('framewise_accuracy.pdf', bbox_inches='tight', pad_inches=0)"
   ]
  },
  {
   "cell_type": "code",
   "execution_count": 24,
   "id": "70026709-61c0-41ed-a171-fc8b0a5d29b3",
   "metadata": {},
   "outputs": [
    {
     "name": "stdout",
     "output_type": "stream",
     "text": [
      "w2v2fb\n",
      "encodec\n",
      "w2v2fc-pretrained\n",
      "mel\n",
      "w2v2fc\n",
      "bottleneck\n",
      "w2v2ft\n"
     ]
    }
   ],
   "source": [
    "for idx in indices:\n",
    "    print(models[idx])"
   ]
  },
  {
   "cell_type": "code",
   "execution_count": 199,
   "id": "7f1fb759-f0dc-47b5-8097-2c501ab9b25c",
   "metadata": {},
   "outputs": [
    {
     "name": "stdout",
     "output_type": "stream",
     "text": [
      "{'bottleneck': 0.675834079583486, 'encodec': 0.7371714115142822, 'mel': 0.6974206368128458, 'w2v2fb': 0.770124077796936, 'w2v2fc': 0.6862019300460815, 'w2v2fc-pretrained': 0.7241745193799337}\n"
     ]
    }
   ],
   "source": [
    "print(average_accuracies)"
   ]
  },
  {
   "cell_type": "code",
   "execution_count": 200,
   "id": "b50bae29-b727-4114-b550-725fd92ef8c2",
   "metadata": {},
   "outputs": [
    {
     "data": {
      "text/plain": [
       "{'bottleneck': 0.7861724495887756,\n",
       " 'encodec': 0.8202138543128967,\n",
       " 'mel': 0.8554689884185791,\n",
       " 'w2v2fb': 0.8309870362281799,\n",
       " 'w2v2fc': 0.8784779906272888,\n",
       " 'w2v2fc-pretrained': 0.6586368680000305}"
      ]
     },
     "execution_count": 200,
     "metadata": {},
     "output_type": "execute_result"
    }
   ],
   "source": [
    "common_voice_accuracies"
   ]
  },
  {
   "cell_type": "code",
   "execution_count": 224,
   "id": "165d4c34-f30b-47d0-a200-787aa0aa55e4",
   "metadata": {},
   "outputs": [],
   "source": [
    "bars = [b for i, b in zip(indices, bar) if models[i] in top_legend_models]"
   ]
  },
  {
   "cell_type": "code",
   "execution_count": 232,
   "id": "d78c0e04-5102-4e6f-9687-33e9069e6920",
   "metadata": {},
   "outputs": [
    {
     "data": {
      "text/plain": [
       "2.6"
      ]
     },
     "execution_count": 232,
     "metadata": {},
     "output_type": "execute_result"
    }
   ],
   "source": [
    "bars[2]._x0"
   ]
  },
  {
   "cell_type": "code",
   "execution_count": 228,
   "id": "a6e17ae0-160b-4cbd-98e5-7ccd8e597a16",
   "metadata": {},
   "outputs": [
    {
     "data": {
      "text/plain": [
       "['bottleneck', 'encodec', 'mel', 'w2v2fb', 'w2v2fc', 'w2v2fc-pretrained']"
      ]
     },
     "execution_count": 228,
     "metadata": {},
     "output_type": "execute_result"
    }
   ],
   "source": [
    "models"
   ]
  },
  {
   "cell_type": "code",
   "execution_count": 230,
   "id": "a832cd31-47db-449b-99e0-a18e2d3af0a6",
   "metadata": {},
   "outputs": [
    {
     "data": {
      "text/plain": [
       "[True, True, False, True, True]"
      ]
     },
     "execution_count": 230,
     "metadata": {},
     "output_type": "execute_result"
    }
   ],
   "source": [
    "[models[indices[i]] in top_legend_models for i in range(5)]"
   ]
  },
  {
   "cell_type": "code",
   "execution_count": 231,
   "id": "cefc5ca6-1ee1-49c4-8e6f-8210e2893d2e",
   "metadata": {},
   "outputs": [],
   "source": [
    "bars = [list(bar)[i] for i in range(5) if models[indices[i]] in top_legend_models]"
   ]
  },
  {
   "cell_type": "code",
   "execution_count": null,
   "id": "5c0f2e26-9b3a-4765-b9eb-84aadd8af8b5",
   "metadata": {},
   "outputs": [],
   "source": []
  }
 ],
 "metadata": {
  "kernelspec": {
   "display_name": "Python 3 (ipykernel)",
   "language": "python",
   "name": "python3"
  },
  "language_info": {
   "codemirror_mode": {
    "name": "ipython",
    "version": 3
   },
   "file_extension": ".py",
   "mimetype": "text/x-python",
   "name": "python",
   "nbconvert_exporter": "python",
   "pygments_lexer": "ipython3",
   "version": "3.10.12"
  }
 },
 "nbformat": 4,
 "nbformat_minor": 5
}
