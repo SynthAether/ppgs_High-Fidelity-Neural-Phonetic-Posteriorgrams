{
 "cells": [
  {
   "cell_type": "code",
   "execution_count": null,
   "id": "aeb1f63e-c7ac-4ed8-92e7-8ebeff05b559",
   "metadata": {},
   "outputs": [],
   "source": [
    "from pathlib import Path\n",
    "import ppgs\n",
    "from json import load\n",
    "import numpy as np\n",
    "from matplotlib import pyplot as plt\n",
    "import torch\n",
    "from matplotlib.colors import PowerNorm\n",
    "from mpl_toolkits.axes_grid1 import make_axes_locatable"
   ]
  },
  {
   "cell_type": "code",
   "execution_count": null,
   "id": "4fa09234-4aa0-4e21-a30a-e598c63aadfc",
   "metadata": {},
   "outputs": [],
   "source": [
    "eval_dir = Path(ppgs.EVAL_DIR)\n",
    "models = [\n",
    "    'bottleneck',\n",
    "    'encodec',\n",
    "    'mel',\n",
    "    'w2v2fb',\n",
    "    'w2v2fc'\n",
    "]\n",
    "eval_files = {model: eval_dir / model / 'overall-test.json' for model in models}"
   ]
  },
  {
   "cell_type": "code",
   "execution_count": null,
   "id": "0cde9094-1046-48c3-ac7e-568ba2a3d608",
   "metadata": {},
   "outputs": [],
   "source": [
    "evals = {}\n",
    "for model, eval_file in eval_files.items():\n",
    "    with open(eval_file, 'r') as f:\n",
    "        evals[model] = load(f)"
   ]
  },
  {
   "cell_type": "code",
   "execution_count": null,
   "id": "bc0c2099-df07-4b88-972d-b41fd49441ff",
   "metadata": {},
   "outputs": [],
   "source": [
    "timit_accuracies = {\n",
    "    model: evals[model]['timit']['Accuracy/per-dataset'] for model in models\n",
    "}\n",
    "arctic_accuracies = {\n",
    "    model: evals[model]['arctic']['Accuracy/per-dataset'] for model in models\n",
    "}\n",
    "common_voice_accuracies = {\n",
    "    model: evals[model]['charsiu']['Accuracy/per-dataset'] for model in models\n",
    "}"
   ]
  },
  {
   "cell_type": "code",
   "execution_count": null,
   "id": "10bc6ca7-aa2d-4882-9c77-cd9a694ff058",
   "metadata": {},
   "outputs": [],
   "source": [
    "timit_accuracies"
   ]
  },
  {
   "cell_type": "code",
   "execution_count": null,
   "id": "d3c7af21-ccba-41ad-a419-e60fd985d510",
   "metadata": {},
   "outputs": [],
   "source": [
    "arctic_accuracies"
   ]
  },
  {
   "cell_type": "code",
   "execution_count": null,
   "id": "aa69595a-4752-4c61-b69d-ac190309cc6b",
   "metadata": {},
   "outputs": [],
   "source": [
    "common_voice_accuracies"
   ]
  },
  {
   "cell_type": "code",
   "execution_count": null,
   "id": "78321495-a4b5-49ef-b94e-76ee9cc6ab72",
   "metadata": {},
   "outputs": [],
   "source": [
    "average_accuracies = {}\n",
    "for model in models:\n",
    "    average_accuracies[model] = 0\n",
    "    average_accuracies[model] += timit_accuracies[model]\n",
    "    average_accuracies[model] += arctic_accuracies[model]\n",
    "    average_accuracies[model] += common_voice_accuracies[model]\n",
    "    average_accuracies[model] /= 3"
   ]
  },
  {
   "cell_type": "code",
   "execution_count": null,
   "id": "999f3103-3f6b-4acd-b78f-0a1e1a734385",
   "metadata": {},
   "outputs": [],
   "source": [
    "average_accuracy_items = list(average_accuracies.items())\n",
    "indices = list(reversed(np.argsort([item[1] for item in average_accuracy_items])))\n",
    "indices"
   ]
  },
  {
   "cell_type": "code",
   "execution_count": null,
   "id": "69c06794-029f-4024-a49f-8a31b2c7a1b1",
   "metadata": {},
   "outputs": [],
   "source": [
    "model_colors = ['red', 'green', 'blue', 'orange', 'purple', 'cyan', 'lime', 'magenta']\n",
    "label_map = {\n",
    "    'bottleneck': 'ASR bottleneck',\n",
    "    'encodec': 'EnCodec',\n",
    "    'mel': 'Mel spectrogram',\n",
    "    'w2v2fb': 'Wav2vec 2.0',\n",
    "    'w2v2fc': 'Charsiu',\n",
    "    'w2v2fc-pretrained': 'Charsiu (Pretrained)'\n",
    "}\n",
    "top_legend_models = ['bottleneck', 'encodec', 'mel', 'w2v2fb', 'w2v2fc']\n",
    "bottom_legend_models = [m for m in models if m not in top_legend_models]\n",
    "figure, axes = plt.subplots(1, 4, sharey=True, figsize=(8, 2.8), width_ratios=[1, 1, 1, 1.4])\n",
    "datasets = ['Common Voice', 'TIMIT', 'Arctic']\n",
    "inter_figure_distance = 0.075 -0.0025\n",
    "for i, accuracies in enumerate([common_voice_accuracies, timit_accuracies, arctic_accuracies]):\n",
    "    ax = axes[i]\n",
    "    ax.set_ylim(0.3, 0.9)\n",
    "    for pos in ['top', 'bottom', 'left', 'right']:\n",
    "        ax.spines[pos].set_visible(False)\n",
    "    ax.tick_params(left=False, bottom=False)\n",
    "    bar = ax.bar(range(len(accuracies)), [list(accuracies.values())[idx] for idx in indices], align='center', color=model_colors)\n",
    "    ax.set_xticks(range(len(accuracies)), [label_map[k] for k in accuracies.keys()], rotation=45, rotation_mode='anchor', ha='right', visible=False)\n",
    "    ax.set_title(f'{datasets[i]}')\n",
    "    if i == 0:\n",
    "        xmin = 0\n",
    "        xmax = 1 + inter_figure_distance\n",
    "    elif i == len(datasets) - 1:\n",
    "        xmin = 0 - inter_figure_distance\n",
    "        xmax = 1\n",
    "    else:\n",
    "        xmin = 0 - inter_figure_distance\n",
    "        xmax = 1 + inter_figure_distance\n",
    "    for y in [0.4, 0.5, 0.6, 0.7, 0.8, 0.9]:\n",
    "        ax.axhline(y, linestyle='dashed', clip_on=False, xmin=xmin, xmax=xmax)\n",
    "\n",
    "lax = axes[-1]\n",
    "lax.axis('off')\n",
    "legend_labels = [label_map[models[idx]] + f'\\n(avg={average_accuracy_items[idx][1]:.3f})' for idx in indices]\n",
    "top_legend = lax.legend(\n",
    "    [b for i, b in enumerate(bar) if models[indices[i]] in top_legend_models],\n",
    "    [l for i, l in enumerate(legend_labels) if models[indices[i]] in top_legend_models],\n",
    "    loc='center',\n",
    "    title=r'$\\bf{Input\\ representation:}$',\n",
    "    frameon=False,\n",
    "    fontsize=11\n",
    ")\n",
    "plt.subplots_adjust(wspace=0.05)\n",
    "figure.savefig('framewise_accuracy.pdf', bbox_inches='tight', pad_inches=0)"
   ]
  },
  {
   "cell_type": "code",
   "execution_count": null,
   "id": "70026709-61c0-41ed-a171-fc8b0a5d29b3",
   "metadata": {},
   "outputs": [],
   "source": [
    "for idx in indices:\n",
    "    print(models[idx])"
   ]
  },
  {
   "cell_type": "code",
   "execution_count": null,
   "id": "7f1fb759-f0dc-47b5-8097-2c501ab9b25c",
   "metadata": {},
   "outputs": [],
   "source": [
    "print(average_accuracies)"
   ]
  },
  {
   "cell_type": "code",
   "execution_count": null,
   "id": "b50bae29-b727-4114-b550-725fd92ef8c2",
   "metadata": {},
   "outputs": [],
   "source": [
    "common_voice_accuracies"
   ]
  },
  {
   "cell_type": "code",
   "execution_count": null,
   "id": "165d4c34-f30b-47d0-a200-787aa0aa55e4",
   "metadata": {},
   "outputs": [],
   "source": [
    "bars = [b for i, b in zip(indices, bar) if models[i] in top_legend_models]"
   ]
  },
  {
   "cell_type": "code",
   "execution_count": null,
   "id": "d78c0e04-5102-4e6f-9687-33e9069e6920",
   "metadata": {},
   "outputs": [],
   "source": [
    "bars[2]._x0"
   ]
  },
  {
   "cell_type": "code",
   "execution_count": null,
   "id": "a6e17ae0-160b-4cbd-98e5-7ccd8e597a16",
   "metadata": {},
   "outputs": [],
   "source": [
    "models"
   ]
  },
  {
   "cell_type": "code",
   "execution_count": null,
   "id": "a832cd31-47db-449b-99e0-a18e2d3af0a6",
   "metadata": {},
   "outputs": [],
   "source": [
    "[models[indices[i]] in top_legend_models for i in range(5)]"
   ]
  },
  {
   "cell_type": "code",
   "execution_count": null,
   "id": "cefc5ca6-1ee1-49c4-8e6f-8210e2893d2e",
   "metadata": {},
   "outputs": [],
   "source": [
    "bars = [list(bar)[i] for i in range(5) if models[indices[i]] in top_legend_models]"
   ]
  },
  {
   "cell_type": "code",
   "execution_count": null,
   "id": "5c0f2e26-9b3a-4765-b9eb-84aadd8af8b5",
   "metadata": {},
   "outputs": [],
   "source": [
    "M = np.array([\n",
    "    [0.8, 0.05, 0.08, 0.07],\n",
    "    [0.1, 0.75, 0.1, 0.05],\n",
    "    [0.01, 0.04, 0.9, 0.05],\n",
    "    [0, 0.25, 0.05, 0.7]\n",
    "])\n",
    "\n",
    "box_center = (2, 2)\n",
    "\n",
    "box_start_coords = (box_center[0]-0.75, box_center[1]-0.75)\n",
    "box_width = 1.5\n",
    "box_height = 1.5\n",
    "\n",
    "fig, ax = plt.subplots(1)\n",
    "gax = ax.matshow(M)\n",
    "ax.add_patch(\n",
    "    plt.Rectangle(\n",
    "        box_start_coords,\n",
    "        box_width,\n",
    "        box_height,\n",
    "        facecolor='none',\n",
    "        edgecolor='red',\n",
    "        linewidth=4\n",
    "    )\n",
    ")"
   ]
  },
  {
   "cell_type": "code",
   "execution_count": null,
   "id": "7522cb48-2fa8-4665-a6e9-9754db626713",
   "metadata": {},
   "outputs": [],
   "source": [
    "M = torch.load(ppgs.EVAL_DIR / 'balanced' / 'overall-valid' / 'DistanceMatrix-aggregate-data.pt')\n",
    "figure = plt.figure(dpi=400, figsize=(6, 6))\n",
    "ax = figure.add_subplot()\n",
    "mat = ax.matshow(M, norm=PowerNorm(gamma=1/3))\n",
    "# mat = ax.matshow(self._normalized())\n",
    "phones = ppgs.PHONEMES\n",
    "num_phones = len(ppgs.PHONEMES)\n",
    "ax.locator_params('both', nbins=num_phones)\n",
    "ax.set_xticklabels([''] + phones, rotation='vertical')\n",
    "ax.set_yticklabels([''] + phones)\n",
    "ax.tick_params(axis='x', top=True, bottom=True, labelbottom=True, labeltop=True)\n",
    "divider = make_axes_locatable(ax)\n",
    "cax = divider.append_axes('right', size='5%', pad=0.1)\n",
    "ax.figure.colorbar(mat, cax=cax)\n",
    "figure.align_labels()\n",
    "\n",
    "phone_pairs = [\n",
    "    ('f', 'v'),\n",
    "    ('s', 'z'),\n",
    "    ('sh', 'zh')\n",
    "]\n",
    "\n",
    "padding = 0.5 + 0.2\n",
    "\n",
    "for phone0, phone1 in phone_pairs:\n",
    "\n",
    "    idx0 = ppgs.PHONEMES.index(phone0)\n",
    "    idx1 = ppgs.PHONEMES.index(phone1)\n",
    "    indices = [idx0, idx1]\n",
    "\n",
    "    for center in [indices, list(reversed(indices))]:\n",
    "    \n",
    "        box_start_coords = (center[0]-padding, center[1]-padding)\n",
    "        box_width = padding*2\n",
    "        box_height = padding*2\n",
    "        \n",
    "        ax.add_patch(\n",
    "            plt.Rectangle(\n",
    "                box_start_coords,\n",
    "                box_width,\n",
    "                box_height,\n",
    "                facecolor='none',\n",
    "                edgecolor='red',\n",
    "                linewidth=0.5\n",
    "            )\n",
    "        )\n",
    "figure.savefig('distance_matrix.pdf', bbox_inches='tight', pad_inches=0)"
   ]
  },
  {
   "cell_type": "code",
   "execution_count": null,
   "id": "d4d0bbe7-9839-4b02-a0e2-5d5fcf469692",
   "metadata": {},
   "outputs": [],
   "source": []
  }
 ],
 "metadata": {
  "kernelspec": {
   "display_name": "Python 3 (ipykernel)",
   "language": "python",
   "name": "python3"
  },
  "language_info": {
   "codemirror_mode": {
    "name": "ipython",
    "version": 3
   },
   "file_extension": ".py",
   "mimetype": "text/x-python",
   "name": "python",
   "nbconvert_exporter": "python",
   "pygments_lexer": "ipython3",
   "version": "3.10.12"
  }
 },
 "nbformat": 4,
 "nbformat_minor": 5
}
