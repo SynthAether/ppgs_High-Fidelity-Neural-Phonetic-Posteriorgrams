{
 "cells": [
  {
   "cell_type": "code",
   "execution_count": 2,
   "id": "5833dbe6-bc61-4193-a5fa-87c6b1915952",
   "metadata": {},
   "outputs": [
    {
     "name": "stdout",
     "output_type": "stream",
     "text": [
      "using cached metadata\n",
      "preparing dataset metadata (operation may be slow)\n",
      "0\n",
      "10000\n",
      "20000\n",
      "30000\n",
      "40000\n",
      "50000\n",
      "60000\n",
      "70000\n",
      "80000\n",
      "90000\n",
      "100000\n",
      "110000\n",
      "120000\n",
      "130000\n",
      "140000\n",
      "150000\n",
      "160000\n",
      "170000\n",
      "180000\n",
      "190000\n",
      "200000\n",
      "210000\n",
      "220000\n",
      "230000\n",
      "240000\n",
      "250000\n",
      "260000\n",
      "270000\n",
      "280000\n",
      "290000\n",
      "300000\n",
      "310000\n",
      "320000\n",
      "330000\n",
      "340000\n",
      "350000\n",
      "360000\n",
      "370000\n",
      "380000\n",
      "390000\n",
      "400000\n",
      "410000\n",
      "420000\n",
      "430000\n",
      "440000\n",
      "450000\n",
      "460000\n",
      "470000\n",
      "480000\n",
      "490000\n",
      "500000\n",
      "510000\n",
      "520000\n",
      "530000\n",
      "540000\n",
      "550000\n",
      "560000\n",
      "570000\n",
      "580000\n",
      "590000\n",
      "600000\n",
      "610000\n",
      "620000\n",
      "630000\n",
      "640000\n",
      "650000\n",
      "660000\n",
      "670000\n",
      "680000\n",
      "690000\n",
      "700000\n",
      "710000\n",
      "720000\n",
      "730000\n",
      "740000\n",
      "750000\n",
      "760000\n",
      "770000\n",
      "780000\n",
      "790000\n",
      "800000\n",
      "810000\n",
      "820000\n",
      "830000\n",
      "840000\n",
      "850000\n",
      "860000\n"
     ]
    }
   ],
   "source": [
    "import torch, ppgs\n",
    "\n",
    "phonemes_set = ppgs.data.Dataset('charsiu', features=['phonemes'])\n",
    "count = len(phonemes_set)\n",
    "\n",
    "device = 'cuda:3'\n",
    "\n",
    "totals = torch.zeros(40, dtype=torch.long).to(device)\n",
    "\n",
    "for i, (phone_tensor,) in enumerate(phonemes_set):\n",
    "    if i % 10000 == 0:\n",
    "        print(i, flush=True)\n",
    "    totals.scatter_add_(dim=0, index=phone_tensor.to(device), src=torch.ones(phone_tensor.shape, dtype=torch.long).to(device))"
   ]
  },
  {
   "cell_type": "code",
   "execution_count": 3,
   "id": "5c7dbd0a-23d5-4356-8120-04cba05ab3a1",
   "metadata": {},
   "outputs": [],
   "source": [
    "torch.save(totals, 'phone_counts.pt')"
   ]
  },
  {
   "cell_type": "code",
   "execution_count": 14,
   "id": "aa9a3fd9-54f7-4ade-a5e7-646640ff32f7",
   "metadata": {},
   "outputs": [
    {
     "name": "stdout",
     "output_type": "stream",
     "text": [
      "tensor([0.0116, 0.0172, 0.0621, 0.0093, 0.0045, 0.0132, 0.0087, 0.0040, 0.0221,\n",
      "        0.0117, 0.0154, 0.0224, 0.0142, 0.0123, 0.0042, 0.0083, 0.0327, 0.0257,\n",
      "        0.0047, 0.0234, 0.0296, 0.0172, 0.0466, 0.0061, 0.0110, 0.0010, 0.0128,\n",
      "        0.0255, 0.0414, 0.0076, 0.0359, 0.0025, 0.0011, 0.0096, 0.0097, 0.0090,\n",
      "        0.0036, 0.0275, 0.0004, 0.3741], device='cuda:3')\n",
      "tensor([  86.4804,   58.1777,   16.1084,  107.6004,  223.3376,   75.9555,\n",
      "         115.4388,  247.6422,   45.2568,   85.2505,   65.0828,   44.5462,\n",
      "          70.2477,   81.2414,  236.7241,  120.4397,   30.5476,   38.8798,\n",
      "         212.6821,   42.6530,   33.7982,   58.2183,   21.4670,  162.8969,\n",
      "          90.5105,  963.1365,   78.4187,   39.2893,   24.1366,  132.2458,\n",
      "          27.8339,  401.1130,  888.6804,  104.2947,  102.7537,  111.1952,\n",
      "         279.5505,   36.4130, 2370.1804,    2.6729], device='cuda:3')\n",
      "tensor([0.0365, 0.0245, 0.0068, 0.0454, 0.0942, 0.0320, 0.0487, 0.1045, 0.0191,\n",
      "        0.0360, 0.0275, 0.0188, 0.0296, 0.0343, 0.0999, 0.0508, 0.0129, 0.0164,\n",
      "        0.0897, 0.0180, 0.0143, 0.0246, 0.0091, 0.0687, 0.0382, 0.4064, 0.0331,\n",
      "        0.0166, 0.0102, 0.0558, 0.0117, 0.1692, 0.3749, 0.0440, 0.0434, 0.0469,\n",
      "        0.1179, 0.0154, 1.0000, 0.0011], device='cuda:3')\n"
     ]
    }
   ],
   "source": [
    "ratios = totals / totals.sum()\n",
    "print(ratios)\n",
    "weights = 1/ratios\n",
    "print(weights)\n",
    "weights /= weights.max()\n",
    "print(weights)"
   ]
  },
  {
   "cell_type": "code",
   "execution_count": 17,
   "id": "e1c4f2d7-ccc9-44c4-9076-5c5eea3a5449",
   "metadata": {},
   "outputs": [
    {
     "data": {
      "text/plain": [
       "tensor([0.0365, 0.0245, 0.0068, 0.0454, 0.0942, 0.0320, 0.0487, 0.1045, 0.0191,\n",
       "        0.0360, 0.0275, 0.0188, 0.0296, 0.0343, 0.0999, 0.0508, 0.0129, 0.0164,\n",
       "        0.0897, 0.0180, 0.0143, 0.0246, 0.0091, 0.0687, 0.0382, 0.4064, 0.0331,\n",
       "        0.0166, 0.0102, 0.0558, 0.0117, 0.1692, 0.3749, 0.0440, 0.0434, 0.0469,\n",
       "        0.1179, 0.0154, 1.0000, 0.0011], device='cuda:3')"
      ]
     },
     "execution_count": 17,
     "metadata": {},
     "output_type": "execute_result"
    }
   ],
   "source": [
    "totals.min()/totals"
   ]
  },
  {
   "cell_type": "code",
   "execution_count": 12,
   "id": "8c1fabcd-74d3-430a-bfcf-dae54ce70ac6",
   "metadata": {},
   "outputs": [
    {
     "data": {
      "text/plain": [
       "tensor([0.0253, 0.0252, 0.0240, 0.0254, 0.0255, 0.0253, 0.0254, 0.0255, 0.0251,\n",
       "        0.0253, 0.0252, 0.0251, 0.0253, 0.0253, 0.0255, 0.0254, 0.0248, 0.0250,\n",
       "        0.0255, 0.0250, 0.0249, 0.0252, 0.0244, 0.0255, 0.0254, 0.0256, 0.0253,\n",
       "        0.0250, 0.0246, 0.0254, 0.0247, 0.0256, 0.0256, 0.0254, 0.0254, 0.0254,\n",
       "        0.0255, 0.0249, 0.0256, 0.0160], device='cuda:3')"
      ]
     },
     "execution_count": 12,
     "metadata": {},
     "output_type": "execute_result"
    }
   ],
   "source": [
    "ratios = totals / totals.sum()\n",
    "weights = 1-ratios\n",
    "weights = torch.softmax(torch.log(weights), dim=0)\n",
    "weights"
   ]
  },
  {
   "cell_type": "code",
   "execution_count": 9,
   "id": "add4b7b6-367e-42ed-bcff-f527be129ac1",
   "metadata": {},
   "outputs": [],
   "source": [
    "torch.save(weights.cpu(), '/home/cameron/ppgs/ppgs/assets/class_weights_complement.pt')"
   ]
  },
  {
   "cell_type": "code",
   "execution_count": 11,
   "id": "67f2f513-ec6b-41d8-8d33-72d0e0c5b118",
   "metadata": {},
   "outputs": [
    {
     "data": {
      "text/plain": [
       "tensor([  5720802,   8503904,  30712944,   4597912,   2215199,   6513513,\n",
       "          4285712,   1997791,  10931770,   5803333,   7601663,  11106149,\n",
       "          7042754,   6089717,   2089932,   4107760,  16195606,  12724798,\n",
       "          2326182,  11599114,  14637963,   8497975,  23046431,   3037119,\n",
       "          5466074,    513673,   6308917,  12592162,  20497429,   3741043,\n",
       "         17774653,   1233411,    556710,   4743648,   4814788,   4449268,\n",
       "          1769760,  13586819,    208734, 185094121], device='cuda:3')"
      ]
     },
     "execution_count": 11,
     "metadata": {},
     "output_type": "execute_result"
    }
   ],
   "source": [
    "totals"
   ]
  },
  {
   "cell_type": "code",
   "execution_count": null,
   "id": "41ba0dd8-e883-4032-8e07-703bafefe8bd",
   "metadata": {},
   "outputs": [],
   "source": []
  }
 ],
 "metadata": {
  "kernelspec": {
   "display_name": "Python 3 (ipykernel)",
   "language": "python",
   "name": "python3"
  },
  "language_info": {
   "codemirror_mode": {
    "name": "ipython",
    "version": 3
   },
   "file_extension": ".py",
   "mimetype": "text/x-python",
   "name": "python",
   "nbconvert_exporter": "python",
   "pygments_lexer": "ipython3",
   "version": "3.10.12"
  }
 },
 "nbformat": 4,
 "nbformat_minor": 5
}
